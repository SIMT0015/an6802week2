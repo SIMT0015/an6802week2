{
 "cells": [
  {
   "cell_type": "code",
   "execution_count": 1,
   "id": "fa60deb7",
   "metadata": {},
   "outputs": [
    {
     "name": "stdout",
     "output_type": "stream",
     "text": [
      " * Serving Flask app '__main__'\n",
      " * Debug mode: off\n"
     ]
    },
    {
     "name": "stderr",
     "output_type": "stream",
     "text": [
      "WARNING: This is a development server. Do not use it in a production deployment. Use a production WSGI server instead.\n",
      " * Running on http://127.0.0.1:7171\n",
      "Press CTRL+C to quit\n",
      "127.0.0.1 - - [04/Apr/2024 22:20:23] \"GET / HTTP/1.1\" 200 -\n",
      "127.0.0.1 - - [04/Apr/2024 22:20:25] \"POST /main HTTP/1.1\" 200 -\n",
      "127.0.0.1 - - [04/Apr/2024 22:20:27] \"POST /ethical_test HTTP/1.1\" 200 -\n",
      "127.0.0.1 - - [04/Apr/2024 22:20:29] \"POST /answer HTTP/1.1\" 200 -\n"
     ]
    },
    {
     "name": "stdout",
     "output_type": "stream",
     "text": [
      "true\n"
     ]
    },
    {
     "name": "stderr",
     "output_type": "stream",
     "text": [
      "127.0.0.1 - - [04/Apr/2024 22:20:29] \"POST /main HTTP/1.1\" 200 -\n",
      "127.0.0.1 - - [04/Apr/2024 22:20:30] \"POST /ethical_test HTTP/1.1\" 200 -\n",
      "127.0.0.1 - - [04/Apr/2024 22:20:31] \"POST /answer HTTP/1.1\" 200 -\n"
     ]
    },
    {
     "name": "stdout",
     "output_type": "stream",
     "text": [
      "false\n"
     ]
    },
    {
     "name": "stderr",
     "output_type": "stream",
     "text": [
      "127.0.0.1 - - [04/Apr/2024 22:20:32] \"POST /main HTTP/1.1\" 200 -\n",
      "127.0.0.1 - - [04/Apr/2024 22:20:33] \"POST /query HTTP/1.1\" 200 -\n"
     ]
    },
    {
     "name": "stdout",
     "output_type": "stream",
     "text": [
      "('Jack Cauton', '2024-04-04 22:20:25.853752')<br>\n"
     ]
    },
    {
     "name": "stderr",
     "output_type": "stream",
     "text": [
      "127.0.0.1 - - [04/Apr/2024 22:20:34] \"POST /main HTTP/1.1\" 200 -\n",
      "127.0.0.1 - - [04/Apr/2024 22:20:34] \"POST /query HTTP/1.1\" 200 -\n"
     ]
    },
    {
     "name": "stdout",
     "output_type": "stream",
     "text": [
      "('Jack Cauton', '2024-04-04 22:20:25.853752')<br>\n"
     ]
    },
    {
     "name": "stderr",
     "output_type": "stream",
     "text": [
      "127.0.0.1 - - [04/Apr/2024 22:20:35] \"POST /end HTTP/1.1\" 200 -\n",
      "127.0.0.1 - - [04/Apr/2024 22:20:40] \"GET / HTTP/1.1\" 200 -\n",
      "127.0.0.1 - - [04/Apr/2024 22:20:43] \"POST /main HTTP/1.1\" 200 -\n",
      "127.0.0.1 - - [04/Apr/2024 22:20:44] \"POST /query HTTP/1.1\" 200 -\n"
     ]
    },
    {
     "name": "stdout",
     "output_type": "stream",
     "text": [
      "('Jack Cauton', '2024-04-04 22:20:25.853752')<br>\n"
     ]
    },
    {
     "name": "stderr",
     "output_type": "stream",
     "text": [
      "127.0.0.1 - - [04/Apr/2024 22:20:45] \"POST /main HTTP/1.1\" 200 -\n",
      "127.0.0.1 - - [04/Apr/2024 22:20:46] \"POST /delete HTTP/1.1\" 200 -\n",
      "127.0.0.1 - - [04/Apr/2024 22:20:47] \"POST /main HTTP/1.1\" 200 -\n",
      "127.0.0.1 - - [04/Apr/2024 22:20:48] \"POST /query HTTP/1.1\" 200 -\n"
     ]
    },
    {
     "name": "stdout",
     "output_type": "stream",
     "text": [
      "\n"
     ]
    },
    {
     "name": "stderr",
     "output_type": "stream",
     "text": [
      "127.0.0.1 - - [04/Apr/2024 22:20:48] \"POST /main HTTP/1.1\" 200 -\n",
      "127.0.0.1 - - [04/Apr/2024 22:20:50] \"POST /food_exp HTTP/1.1\" 200 -\n",
      "127.0.0.1 - - [04/Apr/2024 22:20:52] \"POST /prediction HTTP/1.1\" 200 -\n"
     ]
    },
    {
     "name": "stdout",
     "output_type": "stream",
     "text": [
      "prediction\n"
     ]
    },
    {
     "name": "stderr",
     "output_type": "stream",
     "text": [
      "127.0.0.1 - - [04/Apr/2024 22:20:53] \"POST /main HTTP/1.1\" 200 -\n",
      "127.0.0.1 - - [04/Apr/2024 22:20:54] \"POST /end HTTP/1.1\" 200 -\n"
     ]
    }
   ],
   "source": [
    "from flask import Flask, request, render_template\n",
    "import datetime\n",
    "import sqlite3\n",
    "from flask import Markup\n",
    "\n",
    "app = Flask(__name__)\n",
    "\n",
    "name_flag = 0\n",
    "name=\"\"\n",
    "\n",
    "@app.route(\"/\",methods=[\"GET\",\"POST\"])\n",
    "def index():\n",
    "    return(render_template(\"index.html\"))\n",
    "\n",
    "#Action from index.html (post the user input \"name\")\n",
    "@app.route(\"/main\",methods=[\"GET\",\"POST\"])\n",
    "def main():\n",
    "    global name_flag,name\n",
    "    if name_flag==0:\n",
    "        name = request.form.get(\"name\")\n",
    "        name_flag=1\n",
    "        conn = sqlite3.connect(\"log.db\") #Connect to log.db (initially created via 'create database.ipynb' which also creates the table employee)\n",
    "        c = conn.cursor()\n",
    "        timestamp = datetime.datetime.now()\n",
    "        c.execute(\"insert into employee (name,timestamp) values(?,?)\",(name,timestamp))\n",
    "        conn.commit()\n",
    "        c.close()\n",
    "        conn.close()\n",
    "    return(render_template(\"main.html\",name=name))\n",
    "\n",
    "#Action from main.html\n",
    "@app.route(\"/ethical_test\",methods=[\"GET\",\"POST\"])\n",
    "def ethical_test():   \n",
    "    return(render_template(\"ethical_test.html\"))\n",
    "\n",
    "#Action from main.html\n",
    "@app.route(\"/query\",methods=[\"GET\",\"POST\"])\n",
    "def query():\n",
    "    conn = sqlite3.connect(\"log.db\")\n",
    "    c = conn.execute(\"select * from employee\")\n",
    "    r=\"\"\n",
    "    for row in c:\n",
    "        r=r+str(row)+\"<br>\"\n",
    "    print(r)\n",
    "    r = Markup(r)\n",
    "    c.close()\n",
    "    conn.close()\n",
    "    return(render_template(\"query.html\",r=r))\n",
    "\n",
    "#Action from main.html\n",
    "@app.route(\"/delete\",methods=[\"GET\",\"POST\"])\n",
    "def delete():\n",
    "    conn = sqlite3.connect(\"log.db\")\n",
    "    c = conn.cursor()\n",
    "    c.execute(\"delete from employee;\")\n",
    "    conn.commit()\n",
    "    c.close()\n",
    "    conn.close()\n",
    "    return(render_template(\"delete.html\", name=name))\n",
    "\n",
    "#Action from main.html\n",
    "@app.route(\"/food_exp\",methods=[\"GET\",\"POST\"])\n",
    "def food_exp():\n",
    "    return(render_template(\"food_exp.html\"))\n",
    "\n",
    "#Action from main.html\n",
    "@app.route(\"/end\",methods=[\"GET\",\"POST\"])\n",
    "def end():  \n",
    "    return(render_template(\"end.html\"))\n",
    "\n",
    "\n",
    "#Action from ethical_test.html (post defaulted value from \"options\" selection (true or false))\n",
    "@app.route(\"/answer\",methods=[\"GET\",\"POST\"])\n",
    "def answer():\n",
    "    ans = request.form[\"options\"]\n",
    "    print(ans)\n",
    "    if ans == \"true\":\n",
    "        return(render_template(\"wrong.html\"))\n",
    "    else:\n",
    "        return(render_template(\"correct.html\"))\n",
    "\n",
    "#Action from food_expenditure.html (post the user input \"income\")\n",
    "@app.route(\"/prediction\",methods=[\"GET\",\"POST\"])\n",
    "def prediction():\n",
    "    print(\"prediction\")\n",
    "    income = float(request.form.get(\"income\"))\n",
    "    return(render_template(\"prediction.html\", r =(income * 0.48517842)+ 147.47538852)) #output from the regression https://colab.research.google.com/drive/1rwt2FUF5HQYS2En9CBemD8MY8Ny72tQ4#scrollTo=zTVX0BIs25y7\n",
    "\n",
    "\n",
    "if __name__ == \"__main__\":\n",
    "    app.run(port=7171) #Optional parameter port =; used 7171 for fun"
   ]
  },
  {
   "cell_type": "code",
   "execution_count": null,
   "id": "e4e7c510",
   "metadata": {},
   "outputs": [],
   "source": []
  }
 ],
 "metadata": {
  "kernelspec": {
   "display_name": "Python 3 (ipykernel)",
   "language": "python",
   "name": "python3"
  },
  "language_info": {
   "codemirror_mode": {
    "name": "ipython",
    "version": 3
   },
   "file_extension": ".py",
   "mimetype": "text/x-python",
   "name": "python",
   "nbconvert_exporter": "python",
   "pygments_lexer": "ipython3",
   "version": "3.11.3"
  }
 },
 "nbformat": 4,
 "nbformat_minor": 5
}
