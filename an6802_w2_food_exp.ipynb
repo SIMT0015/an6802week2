{
  "nbformat": 4,
  "nbformat_minor": 0,
  "metadata": {
    "colab": {
      "provenance": []
    },
    "kernelspec": {
      "name": "python3",
      "display_name": "Python 3"
    },
    "language_info": {
      "name": "python"
    }
  },
  "cells": [
    {
      "cell_type": "code",
      "execution_count": null,
      "metadata": {
        "id": "v4o6C8hVy_Gd"
      },
      "outputs": [],
      "source": [
        "import pandas as pd"
      ]
    },
    {
      "cell_type": "code",
      "source": [
        "df = pd.read_csv('/content/drive/MyDrive/AN6802 AI with Advance Predictive Techniques in Finance/Week02/FoodExpenditure.csv')"
      ],
      "metadata": {
        "id": "5huewAg-0wT0"
      },
      "execution_count": null,
      "outputs": []
    },
    {
      "cell_type": "code",
      "source": [
        "print(df)"
      ],
      "metadata": {
        "id": "gi5qpitnzaBt",
        "colab": {
          "base_uri": "https://localhost:8080/"
        },
        "outputId": "59b3876d-5a9f-4f6f-d57b-e2d499c2e663"
      },
      "execution_count": null,
      "outputs": [
        {
          "output_type": "stream",
          "name": "stdout",
          "text": [
            "          income     foodexp\n",
            "0     420.157651  255.839425\n",
            "1     541.411707  310.958667\n",
            "2     901.157457  485.680014\n",
            "3     639.080229  402.997356\n",
            "4     750.875606  495.560775\n",
            "..           ...         ...\n",
            "230   440.517424  306.519079\n",
            "231   541.200597  299.199328\n",
            "232   581.359892  468.000798\n",
            "233   743.077243  522.601906\n",
            "234  1057.676711  750.320163\n",
            "\n",
            "[235 rows x 2 columns]\n"
          ]
        }
      ]
    },
    {
      "cell_type": "code",
      "source": [
        "Y = df.loc[:,[\"foodexp\"]]\n",
        "X = df.loc[:,[\"income\"]]"
      ],
      "metadata": {
        "id": "B6epf6D5zaEP"
      },
      "execution_count": null,
      "outputs": []
    },
    {
      "cell_type": "code",
      "source": [
        "from sklearn.linear_model  import LinearRegression"
      ],
      "metadata": {
        "id": "X7wTAc4B25me"
      },
      "execution_count": null,
      "outputs": []
    },
    {
      "cell_type": "code",
      "source": [
        "model = LinearRegression().fit(X,Y)"
      ],
      "metadata": {
        "id": "iRH4t1-j25pQ"
      },
      "execution_count": null,
      "outputs": []
    },
    {
      "cell_type": "code",
      "source": [
        "pred = model.predict(X)"
      ],
      "metadata": {
        "id": "x0mJWos_25rh"
      },
      "execution_count": null,
      "outputs": []
    },
    {
      "cell_type": "code",
      "source": [
        "from sklearn.metrics import mean_squared_error\n",
        "rmse = mean_squared_error(Y,pred) ** 0.5\n",
        "rmse"
      ],
      "metadata": {
        "colab": {
          "base_uri": "https://localhost:8080/"
        },
        "id": "ojRyXPtT25t6",
        "outputId": "cd1b204a-c3ee-4ae1-9186-3f23e5429b66"
      },
      "execution_count": null,
      "outputs": [
        {
          "output_type": "execute_result",
          "data": {
            "text/plain": [
              "113.62133035265838"
            ]
          },
          "metadata": {},
          "execution_count": 13
        }
      ]
    },
    {
      "cell_type": "code",
      "source": [
        "model.coef_"
      ],
      "metadata": {
        "colab": {
          "base_uri": "https://localhost:8080/"
        },
        "id": "jGqWmOOe25wa",
        "outputId": "e578437e-90ac-4d10-c3ea-20e64d565afd"
      },
      "execution_count": null,
      "outputs": [
        {
          "output_type": "execute_result",
          "data": {
            "text/plain": [
              "array([[0.48517842]])"
            ]
          },
          "metadata": {},
          "execution_count": 14
        }
      ]
    },
    {
      "cell_type": "code",
      "source": [
        "model.intercept_"
      ],
      "metadata": {
        "colab": {
          "base_uri": "https://localhost:8080/"
        },
        "id": "zTVX0BIs25y7",
        "outputId": "8b319372-1151-40e7-8472-06ce155333d3"
      },
      "execution_count": null,
      "outputs": [
        {
          "output_type": "execute_result",
          "data": {
            "text/plain": [
              "array([147.47538852])"
            ]
          },
          "metadata": {},
          "execution_count": 15
        }
      ]
    },
    {
      "cell_type": "code",
      "source": [],
      "metadata": {
        "id": "JnOTYQp7zaG5"
      },
      "execution_count": null,
      "outputs": []
    },
    {
      "cell_type": "code",
      "source": [],
      "metadata": {
        "id": "ZZjd-UbGzaKA"
      },
      "execution_count": null,
      "outputs": []
    }
  ]
}